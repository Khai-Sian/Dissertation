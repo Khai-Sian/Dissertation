{
 "cells": [
  {
   "cell_type": "code",
   "execution_count": 1,
   "id": "58bf748f",
   "metadata": {},
   "outputs": [],
   "source": [
    "import pandas as pd\n",
    "import textstat\n",
    "import os\n",
    "import time"
   ]
  },
  {
   "cell_type": "markdown",
   "id": "44294b8c",
   "metadata": {},
   "source": [
    "# Calculate Readability Score from clean text"
   ]
  },
  {
   "cell_type": "code",
   "execution_count": 2,
   "id": "93d58ec6",
   "metadata": {},
   "outputs": [],
   "source": [
    "def get_readability_score(df, scoring_func):\n",
    "    \"\"\"\n",
    "    Calculate the readability score for the clean text\n",
    "    \n",
    "    df: dataframe of articles\n",
    "    scoring_func: the readability score to calculate\n",
    "    \"\"\"\n",
    "\n",
    "    return df['clean_text'].apply(scoring_func)"
   ]
  },
  {
   "cell_type": "code",
   "execution_count": 3,
   "id": "f40604d3",
   "metadata": {},
   "outputs": [],
   "source": [
    "def add_readability_score(df):\n",
    "    \"\"\"\n",
    "    Add readabilty score features\n",
    "    \n",
    "    df: dataframe of articles\n",
    "    \"\"\"\n",
    "    \n",
    "    flesch_score = get_readability_score(df, textstat.flesch_reading_ease)\n",
    "    df['flesch'] = flesch_score.values\n",
    "    \n",
    "    flesch_kincaid_level = get_readability_score(df, textstat.flesch_kincaid_grade)\n",
    "    df['flesch_kincaid'] = flesch_kincaid_level.values\n",
    "\n",
    "    smog_index = get_readability_score(df, textstat.smog_index)\n",
    "    df['smog_index'] = smog_index.values\n",
    "\n",
    "    coleman_liau = get_readability_score(df, textstat.coleman_liau_index)\n",
    "    df['coleman_liau'] = coleman_liau.values\n",
    "\n",
    "    automated_readability = get_readability_score(df, textstat.automated_readability_index)\n",
    "    df['automated_readability'] = automated_readability.values\n",
    "\n",
    "    difficult_words = get_readability_score(df, textstat.difficult_words)\n",
    "    df['difficult_words'] = difficult_words.values\n",
    "\n",
    "    dale_chall = get_readability_score(df, textstat.dale_chall_readability_score)\n",
    "    df['dale_chall'] = dale_chall.values\n",
    "\n",
    "    linsear = get_readability_score(df, textstat.linsear_write_formula)\n",
    "    df['linsear'] = linsear.values\n",
    "\n",
    "    gunning_fog = get_readability_score(df, textstat.gunning_fog)\n",
    "    df['gunning_fog'] = gunning_fog.values\n",
    "    \n",
    "    return df"
   ]
  },
  {
   "cell_type": "code",
   "execution_count": 4,
   "id": "13bc67ab",
   "metadata": {
    "scrolled": false
   },
   "outputs": [
    {
     "name": "stdout",
     "output_type": "stream",
     "text": [
      "CSV file alreday exists\n",
      "CSV file alreday exists\n"
     ]
    }
   ],
   "source": [
    "datasets = [\"(Imbalance)\", \"(Balance)\"]\n",
    "\n",
    "for dataset in datasets:\n",
    "    df = pd.read_csv(f'../Data/dataset_text_structure_{dataset}.csv', keep_default_na=False)\n",
    "    df.head()\n",
    "    \n",
    "    if not os.path.exists(f'../Data/dataset_with_readability_{dataset}.csv'):\n",
    "        print(f\"Start Calculating Readability Scores for {dataset} ....\")\n",
    "        start_time = time.time()\n",
    "        df = add_readability_score(df)\n",
    "        df.to_csv(f'../Data/dataset_with_readability_{dataset}.csv', index=False)\n",
    "        end_time = time.time()\n",
    "        \n",
    "        print(\"CSV file created\")\n",
    "        elapsed_time = end_time - start_time\n",
    "        print(f\"Calculation time: {elapsed_time/60:.2f} minutes\")\n",
    "    else:\n",
    "        print(\"CSV file alreday exists\")"
   ]
  },
  {
   "cell_type": "markdown",
   "id": "6d685d0e",
   "metadata": {},
   "source": [
    "# Readability Score Explanation"
   ]
  },
  {
   "cell_type": "markdown",
   "id": "baa43ed4",
   "metadata": {},
   "source": [
    "## Flesch Reading Score\n",
    "- It measures the readability of a text based on sentence length and syllable count\n",
    "- A higher score indicates easier readability\n",
    "    - 90-100: Very easy\n",
    "    - 60-70: Standard\n",
    "    - 0-30: Very difficult\n",
    "- It is calculated using the formula:\n",
    "    $$206.835 - 1.015\\left(\\frac{\\text{total words}}{\\text{total sentences}}\\right) - 84.6\\left(\\frac{\\text{total syllables}}{\\text{total words}}\\right)$$"
   ]
  },
  {
   "cell_type": "markdown",
   "id": "796de370",
   "metadata": {},
   "source": [
    "## Flesch-Kincaid Grade Level\n",
    "- It translates the Flesch Reading Ease Score into a U.S. school grade level\n",
    "- A higher score indicates that the text is appropriate for higher grade levels\n",
    "- It is calculated using the formula:\n",
    "    $$0.39\\left(\\frac{\\text{total words}}{\\text{total sentences}}\\right) + 11.8\\left(\\frac{\\text{total syllables}}{\\text{total words}}\\right) - 15.59$$"
   ]
  },
  {
   "cell_type": "markdown",
   "id": "d9c07f11",
   "metadata": {},
   "source": [
    "## Smog Index\n",
    "- It estimates the years of education needed to understand a piece of writing\n",
    "- It focuses on polysyllabic words (words with three or more syllables)\n",
    "- It is calculated using the formula:\n",
    "    $$1.0430\\sqrt{\\text{number of polysyllabic words} * \\left(\\frac{30}{\\text{number of sentences}}\\right)} + 3.1291$$"
   ]
  },
  {
   "cell_type": "markdown",
   "id": "2e16fb9e",
   "metadata": {},
   "source": [
    "## Colemen-Liau Index\n",
    "- It relies on characters rather than syllables per word\n",
    "- It is calculated using the formula:\n",
    "    $$0.0588L - 0.296S - 15.8$$\n",
    "    $L$ is the average number of letters per 100 words,\n",
    "    $S$ is the average number of sentences per 100 words"
   ]
  },
  {
   "cell_type": "markdown",
   "id": "5bd5102c",
   "metadata": {},
   "source": [
    "## Automated Readability Index\n",
    "- It uses character count, word count, and sentence count to assess readability\n",
    "- It is calculated using the formula:\n",
    "    $$4.71 \\left(\\frac{\\text{total characters}}{\\text{total words}}\\right) + 0.5\\left(\\frac{\\text{total words}}{\\text{total sentences}}\\right) - 21.43$$"
   ]
  },
  {
   "cell_type": "markdown",
   "id": "27785644",
   "metadata": {},
   "source": [
    "## Difficult Words\n",
    "- \"Difficult words\" typically refer to words not found on a list of common words that children in the fourth grade are expected to know\n",
    "- The calculation involves counting these words"
   ]
  },
  {
   "cell_type": "markdown",
   "id": "e8b4465a",
   "metadata": {},
   "source": [
    "## Dale-Chall Score\n",
    "- It considers the percentage of difficult words and the average sentence length\n",
    "- It uses a list of 3,000 common words familiar to 4th-grade students\n",
    "- It is calculated using the formula:\n",
    "    $$0.1579\\left(\\frac{\\text{difficult words}}{\\text{total words}} * 100\\right) + 0.0496\\left(\\frac{\\text{total words}}{\\text{total sentences}}\\right)$$\n",
    "- If the percentage of difficult words is above 5%, an adjustment is made:\n",
    "    $$\\text{Adjusted Score} = \\text{Raw Score} + 3.6365$$"
   ]
  },
  {
   "cell_type": "markdown",
   "id": "3f69511e",
   "metadata": {},
   "source": [
    "## Linsear Write Formula\n",
    "- It based on the number of easy words (one syllable) and hard words (two or more syllables)\n",
    "- The process involves:\n",
    "    1. Take a 100-words sample\n",
    "    2. Count the number of easy words and multiply by 1\n",
    "    3. Count the number of hard words and multiply by 3\n",
    "    4. Add these two numbers and divide by the number of sentences in the sample\n",
    "    5. Adjust by dividing the result by 2\n",
    "- If the resulting score is greater than 20, subtract 2"
   ]
  },
  {
   "cell_type": "markdown",
   "id": "6b6308dd",
   "metadata": {},
   "source": [
    "## Gunning-Fog Index\n",
    "- It estimates the years of formal education a reader needs to understand a text on the first reading\n",
    "- It focuses on sentence length and complex words (three or more syllables)\n",
    "- It is calculated using the formula:\n",
    "    $$0.4\\left(\\left(\\frac{\\text{total words}}{\\text{total sentences}}\\right) + 100\\left(\\frac{\\text{complex words}}{\\text{total words}}\\right)\\right)$$"
   ]
  },
  {
   "cell_type": "code",
   "execution_count": null,
   "id": "4746ed74",
   "metadata": {},
   "outputs": [],
   "source": []
  }
 ],
 "metadata": {
  "kernelspec": {
   "display_name": "Python 3 (ipykernel)",
   "language": "python",
   "name": "python3"
  },
  "language_info": {
   "codemirror_mode": {
    "name": "ipython",
    "version": 3
   },
   "file_extension": ".py",
   "mimetype": "text/x-python",
   "name": "python",
   "nbconvert_exporter": "python",
   "pygments_lexer": "ipython3",
   "version": "3.12.4"
  }
 },
 "nbformat": 4,
 "nbformat_minor": 5
}
