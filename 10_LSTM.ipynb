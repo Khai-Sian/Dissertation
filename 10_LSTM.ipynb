{
 "cells": [
  {
   "cell_type": "code",
   "execution_count": 1,
   "id": "326a71cd",
   "metadata": {},
   "outputs": [],
   "source": [
    "import torch\n",
    "import torch.nn as nn\n",
    "import torch.optim as optim\n",
    "from sklearn.model_selection import train_test_split, StratifiedKFold\n",
    "from sklearn.preprocessing import StandardScaler, MinMaxScaler\n",
    "from torch.utils.data import DataLoader, TensorDataset\n",
    "\n",
    "import pickle\n",
    "import numpy as np\n",
    "import pandas as pd\n",
    "import nltk\n",
    "import matplotlib.pyplot as plt\n",
    "from transformers import BertTokenizer, BertModel\n",
    "\n",
    "import time\n",
    "import torch.multiprocessing as mp\n",
    "from tqdm import tqdm\n",
    "import os\n",
    "import ast\n",
    "import re\n",
    "\n",
    "from torch.nn.utils.rnn import pad_sequence, pack_padded_sequence, pad_packed_sequence\n",
    "from sklearn.metrics import confusion_matrix, ConfusionMatrixDisplay"
   ]
  },
  {
   "cell_type": "code",
   "execution_count": 2,
   "id": "07eb37fa",
   "metadata": {},
   "outputs": [],
   "source": [
    "from temp import do_somthing, simple_worker, worker_get_bert_embedding_sentence_based"
   ]
  },
  {
   "cell_type": "code",
   "execution_count": 3,
   "id": "89db61bc",
   "metadata": {},
   "outputs": [
    {
     "name": "stdout",
     "output_type": "stream",
     "text": [
      "Using device: cuda\n"
     ]
    }
   ],
   "source": [
    "torch.backends.cudnn.benchmark = True\n",
    "device = torch.device('cuda' if torch.cuda.is_available() else 'cpu')\n",
    "print('Using device:', device)"
   ]
  },
  {
   "cell_type": "markdown",
   "id": "fb524fb7",
   "metadata": {},
   "source": [
    "# Parallel Processing text to embedding"
   ]
  },
  {
   "cell_type": "code",
   "execution_count": 4,
   "id": "38fbbcf2",
   "metadata": {},
   "outputs": [],
   "source": [
    "# Initialize the tokenizer and model\n",
    "tokenizer = BertTokenizer.from_pretrained('bert-base-uncased')\n",
    "model = BertModel.from_pretrained('bert-base-uncased').cuda()"
   ]
  },
  {
   "cell_type": "code",
   "execution_count": 5,
   "id": "6b576fba",
   "metadata": {
    "code_folding": [
     0
    ]
   },
   "outputs": [],
   "source": [
    "def parallel_embedding_computation(df, num_processes=4):\n",
    "    print(\"In parallel_embedding_computation\")\n",
    "    manager = mp.Manager()\n",
    "    return_dict = manager.dict()\n",
    "    progress_counter = manager.Value('i', 0)\n",
    "    lock = manager.Lock()\n",
    "\n",
    "    total_rows = len(df)\n",
    "    print(f\"{total_rows} rows in df\")\n",
    "    \n",
    "    # Split data into chunks for each process\n",
    "    chunk_size = len(df) // num_processes\n",
    "    processes = []\n",
    "    \n",
    "    print(\"Start create process\")\n",
    "    for i in range(num_processes):\n",
    "        start_idx = i * chunk_size\n",
    "        end_idx = len(df) if i == num_processes - 1 else (i + 1) * chunk_size\n",
    "        data_chunk = df['clean_text'][start_idx:end_idx].tolist()\n",
    "        return_dict[i] = []\n",
    "        p = mp.Process(target=worker_get_bert_embedding_sentence_based, args=(data_chunk, return_dict, i, progress_counter, total_rows, lock))\n",
    "        processes.append(p)\n",
    "        p.start()\n",
    "        print(f\"Process {i} started\")\n",
    "\n",
    "    for p in processes:\n",
    "        p.join()\n",
    "        print(f\"Process {p.name} joined\")\n",
    "   \n",
    "    # Combine results\n",
    "    all_embeddings = []\n",
    "    for i in range(num_processes):\n",
    "        all_embeddings.extend(return_dict[i])\n",
    "\n",
    "    df['text_embedding'] = all_embeddings\n",
    "    return df"
   ]
  },
  {
   "cell_type": "markdown",
   "id": "bb46d39d",
   "metadata": {},
   "source": [
    "# Pre-processing data"
   ]
  },
  {
   "cell_type": "code",
   "execution_count": 6,
   "id": "f55c9e01",
   "metadata": {},
   "outputs": [],
   "source": [
    "def preprocess_data(df):\n",
    "    def sample_group(group, n=2000):\n",
    "        return group.sample(n=min(len(group), n), random_state=1)\n",
    "\n",
    "    # Apply the sampling function to each group\n",
    "    df = df.groupby('rate').apply(sample_group).reset_index(drop=True)\n",
    "    print(df['rate'].value_counts())\n",
    "\n",
    "    print(df.dtypes['text_embedding'])  # Should be 'object'\n",
    "    print(type(df['text_embedding'].iloc[0]))  # Should be <class 'numpy.ndarray'>\n",
    "    print(df['text_embedding'].iloc[0].shape)\n",
    "\n",
    "    importance = {'Top': 1, 'High': 2, 'Mid': 3,\n",
    "                  'Low': 4, 'Bottom': 5, 'Unknown': 6}\n",
    "    df['importance'] = df['importance'].map(importance)\n",
    "    \n",
    "    classes = {'FA': 5, 'GA': 4, 'B': 3, 'C': 2, 'Start': 1, 'Stub': 0}\n",
    "    df['rate'] = df['rate'].map(classes)\n",
    "        \n",
    "    return df"
   ]
  },
  {
   "cell_type": "markdown",
   "id": "324c17c7",
   "metadata": {},
   "source": [
    "# Concatenate numerical features to embedding"
   ]
  },
  {
   "cell_type": "code",
   "execution_count": 7,
   "id": "c1d5ba86",
   "metadata": {},
   "outputs": [],
   "source": [
    "def concatenate_numerical_to_embedding(df):\n",
    "    numerical_features = df[['importance', 'external_link', 'internal_link', 'section', 'subsection', 'paragraph',\n",
    "                             'sentence', 'flesch', 'coleman_liau', 'difficult_words', 'dale_chall']]\n",
    "\n",
    "    # Normalize the numerical features\n",
    "    scaler = MinMaxScaler()\n",
    "    numerical_features_scaled = scaler.fit_transform(numerical_features)\n",
    "\n",
    "    text_embeddings = [torch.tensor(embedding) for embedding in df['text_embedding']]\n",
    "    lengths = [embedding.size(0) for embedding in text_embeddings]\n",
    "    padded_embeddings = pad_sequence(text_embeddings, batch_first=True)  # Shape: (batch_size, max_seq_length, 768)\n",
    "    print(f\"Embedding Shape: {padded_embeddings.shape}\")\n",
    "\n",
    "    num_features = numerical_features_scaled.shape[1]\n",
    "    numerical_features_tensor = torch.tensor(numerical_features_scaled, dtype=torch.float32)\n",
    "    numerical_features_expanded = numerical_features_tensor.unsqueeze(1).expand(-1, padded_embeddings.size(1), -1)  # Shape: (batch_size, max_seq_length, num_features)\n",
    "    print(f\"Numerical Features Shape: {numerical_features_expanded.shape}\")\n",
    "\n",
    "    combined_input = torch.cat((padded_embeddings, numerical_features_expanded), dim=2)  # Shape: (batch_size, max_seq_length, 768 + num_features)\n",
    "    print(f\"Concate Shape: {combined_input.shape}\")\n",
    "\n",
    "    labels = torch.tensor(df['rate'].values)\n",
    "    \n",
    "    return combined_input, labels, lengths"
   ]
  },
  {
   "cell_type": "markdown",
   "id": "39451116",
   "metadata": {},
   "source": [
    "# Stratified Train Test Split"
   ]
  },
  {
   "cell_type": "code",
   "execution_count": 8,
   "id": "93d23bc3",
   "metadata": {},
   "outputs": [],
   "source": [
    "def split_data(combined_input, labels, lengths):\n",
    "    \n",
    "    # Split the data into training and test sets\n",
    "    X_train, X_test, y_train, y_test, lengths_train, lengths_test = train_test_split(combined_input, labels, lengths, test_size=0.2, stratify=labels, random_state=42)\n",
    "    \n",
    "    unique_values, counts = np.unique(y_train.numpy(), return_counts=True)\n",
    "\n",
    "    display(unique_values)\n",
    "    display(counts)\n",
    "    \n",
    "    return X_train, X_test, y_train, y_test, lengths_train, lengths_test"
   ]
  },
  {
   "cell_type": "markdown",
   "id": "6ba3ecf3",
   "metadata": {},
   "source": [
    "# LSTM Model"
   ]
  },
  {
   "cell_type": "code",
   "execution_count": 9,
   "id": "d0d45fb7",
   "metadata": {
    "code_folding": []
   },
   "outputs": [],
   "source": [
    "# Define the LSTM model with packed sequences\n",
    "class ArticleClassifier(nn.Module):\n",
    "    def __init__(self, input_dim, hidden_dim, output_dim, num_layers):\n",
    "        super(ArticleClassifier, self).__init__()\n",
    "        self.lstm = nn.LSTM(input_dim, hidden_dim, num_layers, batch_first=True)\n",
    "        self.fc = nn.Linear(hidden_dim, output_dim)\n",
    "    \n",
    "    def forward(self, x, lengths):\n",
    "        # Pack the padded sequence\n",
    "        lengths = lengths.cpu()\n",
    "        packed_input = pack_padded_sequence(x, lengths, batch_first=True, enforce_sorted=False)\n",
    "        packed_output, (ht, ct) = self.lstm(packed_input)\n",
    "        # Use the hidden state from the last time step\n",
    "        output = self.fc(ht[-1])\n",
    "        return output"
   ]
  },
  {
   "cell_type": "code",
   "execution_count": 10,
   "id": "a076467d",
   "metadata": {
    "code_folding": []
   },
   "outputs": [],
   "source": [
    "def training_LSTM(X_train, y_train, lengths_train,\n",
    "                  input_dim, hidden_dim, num_layers, lr, num_epochs):\n",
    "\n",
    "    # Convert data to PyTorch tensors and create DataLoader\n",
    "    train_dataset = TensorDataset(X_train, torch.tensor(lengths_train), y_train)\n",
    "    train_loader = DataLoader(train_dataset, batch_size=32, shuffle=True)\n",
    "\n",
    "    # Initialize the model, loss function, and optimizer\n",
    "    model = ArticleClassifier(input_dim, hidden_dim, 6, num_layers)\n",
    "    device = \"cuda\"\n",
    "    model.to(device)\n",
    "\n",
    "    # Loss and optimizer\n",
    "    criterion = nn.CrossEntropyLoss()\n",
    "    optimizer = optim.Adam(model.parameters(), lr=lr)\n",
    "    \n",
    "    epoch_losses = []\n",
    "    epoch_accuracies = []\n",
    "    \n",
    "    # Training the model\n",
    "    for epoch in range(num_epochs):\n",
    "        model.train()\n",
    "        \n",
    "        epoch_loss = 0\n",
    "        correct = 0\n",
    "        total = 0\n",
    "        \n",
    "        for X_batch, lengths_batch, y_batch in train_loader:\n",
    "            X_batch, lengths_batch, y_batch = X_batch.to(device), lengths_batch.to(device), y_batch.to(device)\n",
    "\n",
    "            optimizer.zero_grad()\n",
    "            outputs = model(X_batch, lengths_batch)\n",
    "            loss = criterion(outputs, y_batch)\n",
    "            loss.backward()\n",
    "            optimizer.step()\n",
    "            \n",
    "            epoch_loss += loss.item()\n",
    "            _, predicted = torch.max(outputs.data, 1)\n",
    "            total += y_batch.size(0)\n",
    "            correct += (predicted == y_batch).sum().item()\n",
    "            \n",
    "        epoch_loss /= len(train_loader)\n",
    "        accuracy = correct / total\n",
    "        \n",
    "        epoch_losses.append(epoch_loss)\n",
    "        epoch_accuracies.append(accuracy)\n",
    "        \n",
    "        print(f'Epoch [{epoch+1}/{num_epochs}], Loss: {loss.item():.4f}')\n",
    "        \n",
    "    return model, epoch_losses, epoch_accuracies"
   ]
  },
  {
   "cell_type": "code",
   "execution_count": 11,
   "id": "74b8bea1",
   "metadata": {},
   "outputs": [],
   "source": [
    "def visualise_LSTM_training(losses, accuracies):\n",
    "    epochs = range(1, len(losses) + 1)\n",
    "\n",
    "    fig, ax1 = plt.subplots(figsize=(12, 6))\n",
    "\n",
    "    color = 'tab:blue'\n",
    "    ax1.set_xlabel('Epochs')\n",
    "    ax1.set_ylabel('Loss', color=color)\n",
    "    ax1.plot(epochs, losses, color=color, label='Training Loss')\n",
    "    ax1.tick_params(axis='y', labelcolor=color)\n",
    "\n",
    "    ax2 = ax1.twinx()\n",
    "    color = 'tab:red'\n",
    "    ax2.set_ylabel('Accuracy', color=color) \n",
    "    ax2.plot(epochs, accuracies, color=color, label='Training Accuracy')\n",
    "    ax2.tick_params(axis='y', labelcolor=color)\n",
    "\n",
    "    fig.tight_layout()  # otherwise the right y-label is slightly clipped\n",
    "    plt.title('Training Loss and Accuracy over Epochs')\n",
    "\n",
    "    image_name = \"Loss and Accuracy\"\n",
    "    plt.savefig(f\"../Report/Image/{image_name}\", dpi=300, bbox_inches='tight', transparent=True)\n",
    "\n",
    "    plt.show()"
   ]
  },
  {
   "cell_type": "code",
   "execution_count": 12,
   "id": "8cd9dcd1",
   "metadata": {
    "code_folding": []
   },
   "outputs": [],
   "source": [
    "def convert_embedding(dataset):\n",
    "\n",
    "    if __name__ == '__main__':\n",
    "        if not os.path.exists(f'../Data/dataset_text_embedding_NO_overlap_({dataset}).pkl'):\n",
    "            df = pd.read_csv(f'../Data/grouped_dataset_({dataset}).csv', keep_default_na=False)\n",
    "\n",
    "            start_time = time.time()\n",
    "            mp.set_start_method('spawn')\n",
    "            df = parallel_embedding_computation(df, num_processes=8)\n",
    "            \n",
    "            with open(f'../Data/dataset_text_embedding_NO_overlap_({dataset}).pkl', 'wb') as f:\n",
    "                pickle.dump(df['text_embedding'], f)\n",
    "            \n",
    "#             df.to_csv(f'Data/dataset_text_embedding_NO_overlap_({dataset}).csv', index=False)\n",
    "            end_time = time.time()\n",
    "            elapsed_time = end_time - start_time\n",
    "            print(f\"Elapsed time: {elapsed_time/60:.2f} minutes\")\n",
    "        else:\n",
    "            df = pd.read_csv(f'../Data/grouped_dataset_({dataset}).csv', keep_default_na=False)\n",
    "            \n",
    "            embedding = pd.read_pickle(f'../Data/dataset_text_embedding_NO_overlap_({dataset}).pkl')\n",
    "                \n",
    "            embedding = pd.Series(embedding, index=df.index)\n",
    "#             df = pd.concat([df, embedding.rename('text_embedding')], axis=1)\n",
    "            df['text_embedding'] = embedding\n",
    "            \n",
    "        return df"
   ]
  },
  {
   "cell_type": "code",
   "execution_count": 13,
   "id": "e98547cc",
   "metadata": {},
   "outputs": [],
   "source": [
    "df = convert_embedding(\"Balance\")\n",
    "df['text_embedding'] = df['text_embedding'].apply(lambda x: np.array(x))"
   ]
  },
  {
   "cell_type": "code",
   "execution_count": 14,
   "id": "14693cc3",
   "metadata": {
    "code_folding": [
     0
    ]
   },
   "outputs": [],
   "source": [
    "# id = 15997\n",
    "# text = df.iloc[id, 4]\n",
    "\n",
    "# tokenizer = BertTokenizer.from_pretrained('bert-base-uncased')\n",
    "# model = BertModel.from_pretrained('bert-base-uncased').cuda()\n",
    "# sentences = nltk.sent_tokenize(text)\n",
    "\n",
    "# current_chunk = []\n",
    "# embeddings = []\n",
    "# for sentence in sentences:\n",
    "#     # tokenized_sentence = tokenizer.encode(sentence, add_special_tokens=False)\n",
    "\n",
    "#     # Check if adding the tokenized_sentence would exceed max_length\n",
    "#     if len(' '.join(current_chunk)) + len(sentence) > 512:\n",
    "#         # Process the current_chunk\n",
    "#         chunk_text = ' '.join(current_chunk)\n",
    "#         inputs = tokenizer(chunk_text, return_tensors='pt', truncation=True, padding=True, max_length=512)\n",
    "#         input_ids = inputs['input_ids'].to('cuda')\n",
    "#         attention_mask = inputs['attention_mask'].to('cuda')\n",
    "\n",
    "#         with torch.no_grad():\n",
    "#             outputs = model(input_ids=input_ids, attention_mask=attention_mask)\n",
    "\n",
    "#         chunk_embedding = outputs.last_hidden_state.mean(dim=1).squeeze().cpu().numpy()\n",
    "#         embeddings.append(chunk_embedding)\n",
    "\n",
    "#         # Start a new chunk with the current sentence\n",
    "#         current_chunk = [sentence]\n",
    "#     else:\n",
    "#         current_chunk.append(sentence)\n",
    "\n",
    "# # Process the remaining tokens in the current_chunk\n",
    "# if current_chunk:\n",
    "#     chunk_text = ' '.join(current_chunk)\n",
    "#     inputs = tokenizer(chunk_text, return_tensors='pt', truncation=True, padding=True, max_length=512)\n",
    "#     input_ids = inputs['input_ids'].to('cuda')\n",
    "#     attention_mask = inputs['attention_mask'].to('cuda')\n",
    "\n",
    "#     with torch.no_grad():\n",
    "#         outputs = model(input_ids=input_ids, attention_mask=attention_mask)\n",
    "\n",
    "#     chunk_embedding = outputs.last_hidden_state.mean(dim=1).squeeze().cpu().numpy()\n",
    "#     embeddings.append(chunk_embedding)\n",
    "    \n",
    "# embeddings = np.array(embeddings) \n",
    "# (embeddings==df.iloc[id, -1]).all()"
   ]
  },
  {
   "cell_type": "code",
   "execution_count": 15,
   "id": "6205e192",
   "metadata": {
    "scrolled": false
   },
   "outputs": [
    {
     "name": "stderr",
     "output_type": "stream",
     "text": [
      "C:\\Users\\khais\\AppData\\Local\\Temp\\ipykernel_4452\\3924998903.py:6: DeprecationWarning: DataFrameGroupBy.apply operated on the grouping columns. This behavior is deprecated, and in a future version of pandas the grouping columns will be excluded from the operation. Either pass `include_groups=False` to exclude the groupings or explicitly select the grouping columns after groupby to silence this warning.\n",
      "  df = df.groupby('rate').apply(sample_group).reset_index(drop=True)\n"
     ]
    },
    {
     "name": "stdout",
     "output_type": "stream",
     "text": [
      "rate\n",
      "C        2000\n",
      "FA       2000\n",
      "GA       2000\n",
      "Stub     2000\n",
      "B        1999\n",
      "Start    1999\n",
      "Name: count, dtype: int64\n",
      "object\n",
      "<class 'numpy.ndarray'>\n",
      "(161, 768)\n",
      "Embedding Shape: torch.Size([11998, 372, 768])\n",
      "Numerical Features Shape: torch.Size([11998, 372, 11])\n",
      "Concate Shape: torch.Size([11998, 372, 779])\n"
     ]
    },
    {
     "data": {
      "text/plain": [
       "array([0, 1, 2, 3, 4, 5], dtype=int64)"
      ]
     },
     "metadata": {},
     "output_type": "display_data"
    },
    {
     "data": {
      "text/plain": [
       "array([1600, 1599, 1600, 1599, 1600, 1600], dtype=int64)"
      ]
     },
     "metadata": {},
     "output_type": "display_data"
    }
   ],
   "source": [
    "X_test = None\n",
    "y_test = None\n",
    "lengths_test = None\n",
    "model = None\n",
    "\n",
    "if not os.path.exists(f'../Data/LSTM.pth'):\n",
    "    df = preprocess_data(df)\n",
    "    combined_input, labels, lengths = concatenate_numerical_to_embedding(df)\n",
    "    X_train, X_test, y_train, y_test, lengths_train, lengths_test = split_data(combined_input, labels, lengths)\n",
    "    \n",
    "    numerical_features = df[['importance', 'external_link', 'internal_link', 'section', 'subsection', 'paragraph',\n",
    "                             'sentence', 'flesch', 'coleman_liau', 'difficult_words', 'dale_chall']]\n",
    "\n",
    "    embedding_dim = 768\n",
    "    input_dim = embedding_dim + len(numerical_features.columns)\n",
    "\n",
    "    model, epoch_losses, epoch_accuracies = training_LSTM(X_train, y_train, lengths_train,\n",
    "                          input_dim, 1024, 4, 0.001, 25)\n",
    "    visualise_LSTM_training(epoch_losses, epoch_accuracies)\n",
    "\n",
    "    # Path where you want to save the model\n",
    "    model_path = f'../Data/LSTM.pth'\n",
    "\n",
    "    # Save the state dictionary of the model\n",
    "    torch.save(model.state_dict(), model_path)\n",
    "else:\n",
    "    df = preprocess_data(df)\n",
    "    combined_input, labels, lengths = concatenate_numerical_to_embedding(df)\n",
    "    X_train, X_test, y_train, y_test, lengths_train, lengths_test = split_data(combined_input, labels, lengths)\n",
    "    \n",
    "    model = ArticleClassifier(779, 1024, 6, 4)\n",
    "    \n",
    "    # Load the state dictionary into the new model\n",
    "    model.load_state_dict(torch.load(f'../Data/LSTM.pth'))"
   ]
  },
  {
   "cell_type": "code",
   "execution_count": 16,
   "id": "13153a91",
   "metadata": {},
   "outputs": [
    {
     "name": "stdout",
     "output_type": "stream",
     "text": [
      "Accuracy: 60.67%\n"
     ]
    },
    {
     "data": {
      "text/plain": [
       "<Figure size 1200x1000 with 0 Axes>"
      ]
     },
     "metadata": {},
     "output_type": "display_data"
    },
    {
     "data": {
      "image/png": "[encoded data removed]",
      "text/plain": [
       "<Figure size 640x480 with 2 Axes>"
      ]
     },
     "metadata": {},
     "output_type": "display_data"
    }
   ],
   "source": [
    "test_dataset = TensorDataset(X_test, torch.tensor(lengths_test), y_test)\n",
    "test_loader = DataLoader(test_dataset, batch_size=32, shuffle=False)\n",
    "\n",
    "# Evaluate the model\n",
    "model.to(\"cuda\")\n",
    "model.eval()\n",
    "# correct = 0\n",
    "# total = 0\n",
    "\n",
    "all_preds = []\n",
    "all_labels = []\n",
    "\n",
    "with torch.no_grad():\n",
    "    for X_batch, lengths_batch, y_batch in test_loader:\n",
    "        X_batch, lengths_batch, y_batch = X_batch.to(device), lengths_batch.to(device), y_batch.to(device)\n",
    "        outputs = model(X_batch, lengths_batch)\n",
    "        _, predicted = torch.max(outputs.data, 1)\n",
    "        \n",
    "        all_preds.extend(predicted.cpu().numpy())\n",
    "        all_labels.extend(y_batch.cpu().numpy())\n",
    "        \n",
    "#         total += y_batch.size(0)\n",
    "#         correct += (predicted == y_batch).sum().item()\n",
    "#     print(f'Accuracy: {100 * correct / total}%')\n",
    "\n",
    "# Calculate accuracy\n",
    "correct = sum([1 for true, pred in zip(all_labels, all_preds) if true == pred])\n",
    "total = len(all_labels)\n",
    "accuracy = 100 * correct / total\n",
    "print(f'Accuracy: {accuracy:.2f}%')\n",
    "\n",
    "# Compute confusion matrix\n",
    "conf_matrix = confusion_matrix(all_labels, all_preds)\n",
    "disp = ConfusionMatrixDisplay(confusion_matrix=conf_matrix, display_labels=['Stub', 'Start', 'C', 'B', 'GA', 'FA'])\n",
    "\n",
    "# Plot confusion matrix\n",
    "plt.figure(figsize=(12, 10))\n",
    "disp.plot(cmap=plt.cm.Blues)\n",
    "plt.title('Confusion Matrix')\n",
    "\n",
    "image_name = \"LSTM Confusion Matrix\"\n",
    "\n",
    "plt.savefig(f\"../Report/Image/{image_name}\", dpi=300, bbox_inches='tight', transparent=True)\n",
    "\n",
    "plt.show()"
   ]
  },
  {
   "cell_type": "code",
   "execution_count": 17,
   "id": "47d72477",
   "metadata": {},
   "outputs": [],
   "source": [
    "# # s0 = df['2_classes'][df['2_classes'] == \"High\"].sample(1051).index\n",
    "# # s1 = df['2_classes'][df['2_classes'] == \"Low\"].sample(8000 - 1051).index\n",
    "# # df = df.loc[s0.union(s1)]\n",
    "\n",
    "# # df['text_embedding'] = df['text_embedding'].apply(string_to_numpy_array)\n",
    "\n",
    "# def sample_group(group, n=2000):\n",
    "#     return group.sample(n=min(len(group), n), random_state=1)\n",
    "\n",
    "# # Apply the sampling function to each group\n",
    "# df = df.groupby('rate').apply(sample_group).reset_index(drop=True)\n",
    "# print(df['rate'].value_counts())\n",
    "\n",
    "# print(df.dtypes['text_embedding'])  # Should be 'object'\n",
    "# print(type(df['text_embedding'].iloc[0]))  # Should be <class 'numpy.ndarray'>\n",
    "# print(df['text_embedding'].iloc[0].shape)\n",
    "    \n",
    "# numerical_features = df[['reference', 'external_link', 'internal_link', 'table', 'formula', \n",
    "#                          'images', 'section', 'subsection', 'subsubsection', 'paragraph', 'sentence',\n",
    "#                          'flesch', 'flesch_kincaid', 'smog_index', 'coleman_liau', 'automated_readability', \n",
    "#                          'difficult_words', 'dale_chall', 'linsear', 'gunning_fog']]\n",
    "\n",
    "# numerical_features = df[['external_link', 'internal_link', 'section', 'subsection', 'paragraph', 'sentence', \n",
    "#                          'flesch', 'coleman_liau', 'difficult_words', 'dale_chall']]\n",
    "\n",
    "# # #     classes = {'High': 1, 'Low': 0}\n",
    "# # #     df['2_classes'] = df['2_classes'].map(classes)\n",
    "    \n",
    "# classes = {'FA': 0, 'GA': 1, 'B': 2, 'C': 3, 'Start': 4, 'Stub': 5}\n",
    "# df['rate'] = df['rate'].map(classes)\n",
    "    \n",
    "# # Normalize the numerical features\n",
    "# scaler = MinMaxScaler()\n",
    "# numerical_features_scaled = scaler.fit_transform(numerical_features)\n",
    "\n",
    "# text_embeddings = [torch.tensor(embedding) for embedding in df['text_embedding']]\n",
    "# lengths = [embedding.size(0) for embedding in text_embeddings]\n",
    "# padded_embeddings = pad_sequence(text_embeddings, batch_first=True)  # Shape: (batch_size, max_seq_length, 768)\n",
    "# print(f\"Embedding Shape: {padded_embeddings.shape}\")\n",
    "\n",
    "# num_features = numerical_features_scaled.shape[1]\n",
    "# numerical_features_tensor = torch.tensor(numerical_features_scaled, dtype=torch.float32)\n",
    "# numerical_features_expanded = numerical_features_tensor.unsqueeze(1).expand(-1, padded_embeddings.size(1), -1)  # Shape: (batch_size, max_seq_length, num_features)\n",
    "# print(f\"Numerical Features Shape: {numerical_features_expanded.shape}\")\n",
    "\n",
    "# combined_input = torch.cat((padded_embeddings, numerical_features_expanded), dim=2)  # Shape: (batch_size, max_seq_length, 768 + num_features)\n",
    "# print(f\"Concate Shape: {combined_input.shape}\")\n",
    "\n",
    "# #     labels = torch.tensor(df['2_classes'].values)\n",
    "# labels = torch.tensor(df['rate'].values)\n",
    "    \n",
    "# # Split the data into training and test sets\n",
    "# X_train, X_test, y_train, y_test, lengths_train, lengths_test = train_test_split(combined_input, labels, lengths, test_size=0.2, stratify=labels, random_state=42)\n",
    "\n",
    "# unique_values, counts = np.unique(y_train.numpy(), return_counts=True)\n",
    "\n",
    "# display(unique_values)\n",
    "# display(counts)\n",
    "\n",
    "# # Convert data to PyTorch tensors and create DataLoader\n",
    "# train_dataset = TensorDataset(X_train, torch.tensor(lengths_train), y_train)\n",
    "# test_dataset = TensorDataset(X_test, torch.tensor(lengths_test), y_test)\n",
    "# train_loader = DataLoader(train_dataset, batch_size=32, shuffle=True)\n",
    "# test_loader = DataLoader(test_dataset, batch_size=32, shuffle=False)\n",
    "    \n",
    "# # Define model parameters\n",
    "# embedding_dim = 768\n",
    "# num_features = numerical_features_scaled.shape[1]\n",
    "# input_dim = embedding_dim + num_features\n",
    "# hidden_dim = 512\n",
    "# output_dim = 6\n",
    "# num_layers = 3\n",
    "\n",
    "# # Initialize the model, loss function, and optimizer\n",
    "# model = ArticleClassifier(input_dim, hidden_dim, output_dim, num_layers)\n",
    "# device = torch.device(\"cuda\" if torch.cuda.is_available() else \"cpu\")\n",
    "# model.to(device)\n",
    "\n",
    "# # Loss and optimizer\n",
    "# criterion = nn.CrossEntropyLoss()\n",
    "# optimizer = optim.Adam(model.parameters(), lr=0.001)\n",
    "\n",
    "# # Training the model\n",
    "# num_epochs = 50\n",
    "\n",
    "# for epoch in range(num_epochs):\n",
    "#     model.train()\n",
    "#     for X_batch, lengths_batch, y_batch in train_loader:\n",
    "#         X_batch, lengths_batch, y_batch = X_batch.to(device), lengths_batch.to(device), y_batch.to(device)\n",
    "\n",
    "#         optimizer.zero_grad()\n",
    "#         outputs = model(X_batch, lengths_batch)\n",
    "#         loss = criterion(outputs, y_batch)\n",
    "#         loss.backward()\n",
    "#         optimizer.step()\n",
    "\n",
    "#     print(f'Epoch [{epoch+1}/{num_epochs}], Loss: {loss.item():.4f}')\n",
    "        \n",
    "# # Evaluate the model\n",
    "# model.eval()\n",
    "# with torch.no_grad():\n",
    "#     correct = 0\n",
    "#     total = 0\n",
    "#     for X_batch, lengths_batch, y_batch in test_loader:\n",
    "#         X_batch, lengths_batch, y_batch = X_batch.to(device), lengths_batch.to(device), y_batch.to(device)\n",
    "#         outputs = model(X_batch, lengths_batch)\n",
    "#         _, predicted = torch.max(outputs.data, 1)\n",
    "#         total += y_batch.size(0)\n",
    "#         correct += (predicted == y_batch).sum().item()\n",
    "\n",
    "#     print(f'Accuracy: {100 * correct / total}%')"
   ]
  },
  {
   "cell_type": "code",
   "execution_count": 18,
   "id": "cc323a0a",
   "metadata": {},
   "outputs": [],
   "source": [
    "# Example of \"numerical_features_tensor.unsqueeze(1).expand(-1, padded_embeddings.size(1), -1)\"\n",
    "# data = [[3, 2, 1], [6, 5, 4], [9, 8, 7]]\n",
    "# tensor1 = torch.tensor(data)\n",
    "\n",
    "# display(tensor1)\n",
    "# display(tensor1.unsqueeze(1))\n",
    "# display(tensor1.unsqueeze(1).expand(-1, 2, -1))"
   ]
  },
  {
   "cell_type": "code",
   "execution_count": null,
   "id": "7d3cd8c4",
   "metadata": {},
   "outputs": [],
   "source": []
  }
 ],
 "metadata": {
  "kernelspec": {
   "display_name": "Python 3 (ipykernel)",
   "language": "python",
   "name": "python3"
  },
  "language_info": {
   "codemirror_mode": {
    "name": "ipython",
    "version": 3
   },
   "file_extension": ".py",
   "mimetype": "text/x-python",
   "name": "python",
   "nbconvert_exporter": "python",
   "pygments_lexer": "ipython3",
   "version": "3.12.4"
  }
 },
 "nbformat": 4,
 "nbformat_minor": 5
}
